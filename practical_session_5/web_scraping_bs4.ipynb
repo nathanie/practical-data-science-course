{
 "cells": [
  {
   "cell_type": "code",
   "execution_count": 1,
   "metadata": {
    "collapsed": true
   },
   "outputs": [],
   "source": [
    "from urllib.request import urlopen as uReq\n",
    "from bs4 import BeautifulSoup as soup\n",
    "\n",
    "import numpy as np\n",
    "import pandas as pd\n",
    "import seaborn as sns\n",
    "\n",
    "import matplotlib.pyplot as plt\n",
    "%matplotlib inline\n"
   ]
  },
  {
   "cell_type": "code",
   "execution_count": 2,
   "metadata": {},
   "outputs": [],
   "source": [
    "if 1==0:\n",
    "    desc_list = []\n",
    "    name_list = []\n",
    "    cat_list = []\n",
    "\n",
    "    for i in range(5100,5500):\n",
    "        base_url = 'http://www.seret.co.il/movies/s_movies.asp?MID='+str(i)\n",
    "\n",
    "        uclient = uReq(base_url)\n",
    "        html_page = uclient.read()\n",
    "\n",
    "        uclient.close()\n",
    "        page_soup = soup(html_page,'html.parser')\n",
    "\n",
    "        review = page_soup.findAll(\"span\",{'itemprop':\"description\"})\n",
    "        name = page_soup.find_all('title')\n",
    "\n",
    "\n",
    "        try:\n",
    "            temp1 = review[0].get_text()\n",
    "            temp2 = str(name).split('|')[0].split('>')[1].strip()\n",
    "            categories = page_soup.find_all('a',class_='DarkGreenU12')\n",
    "            temp = [t for t in categories if 'GID' in str(t)]\n",
    "            cat = [str(c).split('GID=')[1].split('\\\"')[0] for c in temp]\n",
    "            desc_list.append(temp1)\n",
    "            name_list.append(temp2)\n",
    "            cat_list.append(cat)\n",
    "        except:\n",
    "            pass\n",
    "    \n",
    "    df = pd.DataFrame({'names':name_list,'descriptions':desc_list,'categories':cat_list})\n",
    "    df.to_csv('movie_descriptions_and_categories.csv',index=False)"
   ]
  },
  {
   "cell_type": "code",
   "execution_count": 3,
   "metadata": {
    "collapsed": true
   },
   "outputs": [],
   "source": [
    "df = pd.read_csv('movie_descriptions_and_categories.csv')"
   ]
  },
  {
   "cell_type": "code",
   "execution_count": 4,
   "metadata": {},
   "outputs": [
    {
     "data": {
      "text/plain": [
       "'מגי היא אם חד-הורית מניו-יורק המתרגלת לחייה החדשים כרווקה. בניסיון להתקרב לביתה סאמר, נערה מתבגרת ומרדנית, היא מחליטה לצאת עימה לטיול בכפר באיטליה, בו ביקרה פעמים רבות כשהייתה צעירה. בכפר פוגשת מגי את לוקה, אהובה מלפני עשרים שנים. בזמן שהשניים מגששים את ד ...\\xa0\\xa0המשך ...'"
      ]
     },
     "execution_count": 4,
     "metadata": {},
     "output_type": "execute_result"
    }
   ],
   "source": [
    "df.descriptions[3]"
   ]
  },
  {
   "cell_type": "code",
   "execution_count": 5,
   "metadata": {},
   "outputs": [],
   "source": [
    "base_url = 'http://www.seret.co.il/movies/s_movies.asp?MID=5555'\n",
    "\n",
    "uclient = uReq(base_url)\n",
    "html_page = uclient.read()\n",
    "\n",
    "uclient.close()\n",
    "page_soup = soup(html_page,'html.parser')\n",
    "\n",
    "review = page_soup.findAll(\"span\",{'itemprop':\"description\"})\n",
    "name = page_soup.find_all('title')\n",
    "categories = page_soup.find_all('a')\n",
    "temp = [t for t in categories if 'GID' in str(t)]\n",
    "cat = [str(c).split('GID=')[1].split('\\\"')[0] for c in temp]"
   ]
  },
  {
   "cell_type": "code",
   "execution_count": 6,
   "metadata": {
    "scrolled": false
   },
   "outputs": [
    {
     "data": {
      "text/html": [
       "<div>\n",
       "<style>\n",
       "    .dataframe thead tr:only-child th {\n",
       "        text-align: right;\n",
       "    }\n",
       "\n",
       "    .dataframe thead th {\n",
       "        text-align: left;\n",
       "    }\n",
       "\n",
       "    .dataframe tbody tr th {\n",
       "        vertical-align: top;\n",
       "    }\n",
       "</style>\n",
       "<table border=\"1\" class=\"dataframe\">\n",
       "  <thead>\n",
       "    <tr style=\"text-align: right;\">\n",
       "      <th></th>\n",
       "      <th>cat_desc</th>\n",
       "      <th>cat_id</th>\n",
       "    </tr>\n",
       "  </thead>\n",
       "  <tbody>\n",
       "    <tr>\n",
       "      <th>0</th>\n",
       "      <td>קומדיה</td>\n",
       "      <td>8</td>\n",
       "    </tr>\n",
       "    <tr>\n",
       "      <th>1</th>\n",
       "      <td>מתח / פעולה</td>\n",
       "      <td>7</td>\n",
       "    </tr>\n",
       "    <tr>\n",
       "      <th>2</th>\n",
       "      <td>דרמה</td>\n",
       "      <td>4</td>\n",
       "    </tr>\n",
       "    <tr>\n",
       "      <th>3</th>\n",
       "      <td>ילדים</td>\n",
       "      <td>2</td>\n",
       "    </tr>\n",
       "    <tr>\n",
       "      <th>4</th>\n",
       "      <td>אימה</td>\n",
       "      <td>1</td>\n",
       "    </tr>\n",
       "    <tr>\n",
       "      <th>5</th>\n",
       "      <td>אנימציה</td>\n",
       "      <td>16</td>\n",
       "    </tr>\n",
       "    <tr>\n",
       "      <th>6</th>\n",
       "      <td>הרפתקאות</td>\n",
       "      <td>15</td>\n",
       "    </tr>\n",
       "    <tr>\n",
       "      <th>7</th>\n",
       "      <td>זר</td>\n",
       "      <td>13</td>\n",
       "    </tr>\n",
       "    <tr>\n",
       "      <th>8</th>\n",
       "      <td>ישראלי</td>\n",
       "      <td>11</td>\n",
       "    </tr>\n",
       "    <tr>\n",
       "      <th>9</th>\n",
       "      <td>מדע בדיוני</td>\n",
       "      <td>3</td>\n",
       "    </tr>\n",
       "    <tr>\n",
       "      <th>10</th>\n",
       "      <td>מוסיקלי</td>\n",
       "      <td>14</td>\n",
       "    </tr>\n",
       "    <tr>\n",
       "      <th>11</th>\n",
       "      <td>מלחמה</td>\n",
       "      <td>6</td>\n",
       "    </tr>\n",
       "    <tr>\n",
       "      <th>12</th>\n",
       "      <td>רומנטיקה</td>\n",
       "      <td>9</td>\n",
       "    </tr>\n",
       "    <tr>\n",
       "      <th>13</th>\n",
       "      <td>תיעודי</td>\n",
       "      <td>10</td>\n",
       "    </tr>\n",
       "    <tr>\n",
       "      <th>14</th>\n",
       "      <td>מתח/פעולה</td>\n",
       "      <td>7</td>\n",
       "    </tr>\n",
       "  </tbody>\n",
       "</table>\n",
       "</div>"
      ],
      "text/plain": [
       "       cat_desc cat_id\n",
       "0        קומדיה      8\n",
       "1   מתח / פעולה      7\n",
       "2          דרמה      4\n",
       "3         ילדים      2\n",
       "4          אימה      1\n",
       "5       אנימציה     16\n",
       "6      הרפתקאות     15\n",
       "7            זר     13\n",
       "8        ישראלי     11\n",
       "9    מדע בדיוני      3\n",
       "10      מוסיקלי     14\n",
       "11        מלחמה      6\n",
       "12     רומנטיקה      9\n",
       "13       תיעודי     10\n",
       "14    מתח/פעולה      7"
      ]
     },
     "execution_count": 6,
     "metadata": {},
     "output_type": "execute_result"
    }
   ],
   "source": [
    "cat_desc = [str(cd).split('\\\">')[1].split('<')[0] for cd in temp]\n",
    "\n",
    "conversion_df = pd.DataFrame({'cat_id':cat,'cat_desc':cat_desc})\n",
    "conversion_df"
   ]
  },
  {
   "cell_type": "code",
   "execution_count": 7,
   "metadata": {},
   "outputs": [],
   "source": [
    "def has_category(x,c):\n",
    "    return int(str(c) in x)\n",
    "df1 = df.copy()\n",
    "for i in range(1,17):\n",
    "    df1['has_cat_'+str(i)] = df.categories.apply(lambda x: has_category(x,i))\n",
    "\n"
   ]
  },
  {
   "cell_type": "code",
   "execution_count": 8,
   "metadata": {},
   "outputs": [
    {
     "data": {
      "text/plain": [
       "has_cat_2      77\n",
       "has_cat_3      99\n",
       "has_cat_4     157\n",
       "has_cat_5      77\n",
       "has_cat_6      69\n",
       "has_cat_7     147\n",
       "has_cat_8      90\n",
       "has_cat_9      27\n",
       "has_cat_10     11\n",
       "has_cat_11     41\n",
       "has_cat_12      0\n",
       "has_cat_13     42\n",
       "has_cat_14     15\n",
       "has_cat_15     77\n",
       "has_cat_16     61\n",
       "dtype: int64"
      ]
     },
     "execution_count": 8,
     "metadata": {},
     "output_type": "execute_result"
    }
   ],
   "source": [
    "df1.iloc[:,4:].sum()"
   ]
  },
  {
   "cell_type": "code",
   "execution_count": 10,
   "metadata": {},
   "outputs": [],
   "source": [
    "df1['selected'] = (df1['has_cat_2'] | df1['has_cat_3'] | df1['has_cat_7'] | df1['has_cat_8'] | df1['has_cat_4'] )"
   ]
  },
  {
   "cell_type": "code",
   "execution_count": 11,
   "metadata": {},
   "outputs": [],
   "source": [
    "df = df[df1.selected==1]"
   ]
  },
  {
   "cell_type": "code",
   "execution_count": 12,
   "metadata": {},
   "outputs": [],
   "source": [
    "del df1"
   ]
  },
  {
   "cell_type": "code",
   "execution_count": 13,
   "metadata": {
    "collapsed": true
   },
   "outputs": [],
   "source": [
    "from sklearn.feature_extraction.text import CountVectorizer\n",
    "cvec = CountVectorizer()"
   ]
  },
  {
   "cell_type": "code",
   "execution_count": 14,
   "metadata": {
    "collapsed": true
   },
   "outputs": [],
   "source": [
    "X_counts = cvec.fit_transform(df.descriptions)"
   ]
  },
  {
   "cell_type": "code",
   "execution_count": 15,
   "metadata": {
    "scrolled": true
   },
   "outputs": [
    {
     "data": {
      "text/plain": [
       "(380, 6146)"
      ]
     },
     "execution_count": 15,
     "metadata": {},
     "output_type": "execute_result"
    }
   ],
   "source": [
    "X_counts.shape"
   ]
  },
  {
   "cell_type": "code",
   "execution_count": 16,
   "metadata": {},
   "outputs": [
    {
     "data": {
      "text/plain": [
       "scipy.sparse.csr.csr_matrix"
      ]
     },
     "execution_count": 16,
     "metadata": {},
     "output_type": "execute_result"
    }
   ],
   "source": [
    "type(X_counts)"
   ]
  },
  {
   "cell_type": "code",
   "execution_count": 17,
   "metadata": {},
   "outputs": [
    {
     "data": {
      "text/plain": [
       "6146"
      ]
     },
     "execution_count": 17,
     "metadata": {},
     "output_type": "execute_result"
    }
   ],
   "source": [
    "len(cvec.vocabulary_)"
   ]
  },
  {
   "cell_type": "code",
   "execution_count": 18,
   "metadata": {
    "collapsed": true
   },
   "outputs": [],
   "source": [
    "from sklearn.cluster import KMeans\n",
    "km = KMeans(n_clusters=5,n_jobs=4,random_state=2016,max_iter=1000)\n",
    "clst = km.fit_predict(X_counts)"
   ]
  },
  {
   "cell_type": "code",
   "execution_count": 20,
   "metadata": {},
   "outputs": [
    {
     "data": {
      "text/plain": [
       "0       ['7', '15', '4']\n",
       "2             ['4', '6']\n",
       "3             ['8', '9']\n",
       "4        ['7', '4', '6']\n",
       "6      ['16', '2', '15']\n",
       "7       ['16', '2', '8']\n",
       "8            ['16', '2']\n",
       "9            ['4', '13']\n",
       "10                 ['4']\n",
       "11           ['4', '17']\n",
       "12           ['7', '15']\n",
       "13      ['6', '4', '17']\n",
       "14                 ['7']\n",
       "15            ['3', '7']\n",
       "16           ['3', '15']\n",
       "17            ['7', '4']\n",
       "18            ['8', '9']\n",
       "21            ['7', '4']\n",
       "22       ['3', '7', '4']\n",
       "23      ['16', '2', '8']\n",
       "24           ['2', '16']\n",
       "25           ['4', '13']\n",
       "26      ['14', '8', '4']\n",
       "27           ['15', '4']\n",
       "28      ['7', '15', '4']\n",
       "29     ['2', '11', '15']\n",
       "30      ['8', '9', '11']\n",
       "31            ['7', '4']\n",
       "32           ['7', '15']\n",
       "33           ['15', '4']\n",
       "             ...        \n",
       "368     ['8', '4', '13']\n",
       "369          ['4', '17']\n",
       "370           ['7', '4']\n",
       "371    ['16', '14', '8']\n",
       "372    ['16', '14', '8']\n",
       "373                ['4']\n",
       "374          ['15', '7']\n",
       "375           ['4', '3']\n",
       "376           ['8', '4']\n",
       "378                ['3']\n",
       "379          ['15', '4']\n",
       "380          ['3', '15']\n",
       "381     ['4', '8', '13']\n",
       "382                ['7']\n",
       "383           ['7', '3']\n",
       "384           ['7', '3']\n",
       "385           ['7', '3']\n",
       "386    ['4', '14', '13']\n",
       "387           ['7', '1']\n",
       "388                ['8']\n",
       "389    ['2', '16', '15']\n",
       "390    ['2', '16', '15']\n",
       "391          ['4', '11']\n",
       "392     ['3', '15', '7']\n",
       "393           ['7', '1']\n",
       "394           ['8', '7']\n",
       "395                ['7']\n",
       "396          ['8', '13']\n",
       "397           ['1', '4']\n",
       "398           ['7', '8']\n",
       "Name: categories, Length: 380, dtype: object"
      ]
     },
     "execution_count": 20,
     "metadata": {},
     "output_type": "execute_result"
    }
   ],
   "source": [
    "df.categories"
   ]
  },
  {
   "cell_type": "code",
   "execution_count": 21,
   "metadata": {
    "scrolled": true
   },
   "outputs": [
    {
     "ename": "ValueError",
     "evalue": "invalid literal for int() with base 10: '['",
     "output_type": "error",
     "traceback": [
      "\u001b[0;31m---------------------------------------------------------------------------\u001b[0m",
      "\u001b[0;31mValueError\u001b[0m                                Traceback (most recent call last)",
      "\u001b[0;32m<ipython-input-21-c1e4c237663e>\u001b[0m in \u001b[0;36m<module>\u001b[0;34m()\u001b[0m\n\u001b[1;32m      1\u001b[0m \u001b[0mdf\u001b[0m\u001b[0;34m[\u001b[0m\u001b[0;34m'clst'\u001b[0m\u001b[0;34m]\u001b[0m \u001b[0;34m=\u001b[0m \u001b[0mclst\u001b[0m\u001b[0;34m\u001b[0m\u001b[0m\n\u001b[0;32m----> 2\u001b[0;31m \u001b[0mdf\u001b[0m\u001b[0;34m[\u001b[0m\u001b[0;34m'first_cat'\u001b[0m\u001b[0;34m]\u001b[0m \u001b[0;34m=\u001b[0m \u001b[0mdf\u001b[0m\u001b[0;34m.\u001b[0m\u001b[0mcategories\u001b[0m\u001b[0;34m.\u001b[0m\u001b[0mapply\u001b[0m\u001b[0;34m(\u001b[0m\u001b[0;32mlambda\u001b[0m \u001b[0mx\u001b[0m\u001b[0;34m:\u001b[0m \u001b[0mint\u001b[0m\u001b[0;34m(\u001b[0m\u001b[0mx\u001b[0m\u001b[0;34m[\u001b[0m\u001b[0;36m0\u001b[0m\u001b[0;34m]\u001b[0m\u001b[0;34m)\u001b[0m\u001b[0;34m)\u001b[0m\u001b[0;34m\u001b[0m\u001b[0m\n\u001b[0m",
      "\u001b[0;32m/usr/local/lib/python3.5/dist-packages/pandas/core/series.py\u001b[0m in \u001b[0;36mapply\u001b[0;34m(self, func, convert_dtype, args, **kwds)\u001b[0m\n\u001b[1;32m   2353\u001b[0m             \u001b[0;32melse\u001b[0m\u001b[0;34m:\u001b[0m\u001b[0;34m\u001b[0m\u001b[0m\n\u001b[1;32m   2354\u001b[0m                 \u001b[0mvalues\u001b[0m \u001b[0;34m=\u001b[0m \u001b[0mself\u001b[0m\u001b[0;34m.\u001b[0m\u001b[0masobject\u001b[0m\u001b[0;34m\u001b[0m\u001b[0m\n\u001b[0;32m-> 2355\u001b[0;31m                 \u001b[0mmapped\u001b[0m \u001b[0;34m=\u001b[0m \u001b[0mlib\u001b[0m\u001b[0;34m.\u001b[0m\u001b[0mmap_infer\u001b[0m\u001b[0;34m(\u001b[0m\u001b[0mvalues\u001b[0m\u001b[0;34m,\u001b[0m \u001b[0mf\u001b[0m\u001b[0;34m,\u001b[0m \u001b[0mconvert\u001b[0m\u001b[0;34m=\u001b[0m\u001b[0mconvert_dtype\u001b[0m\u001b[0;34m)\u001b[0m\u001b[0;34m\u001b[0m\u001b[0m\n\u001b[0m\u001b[1;32m   2356\u001b[0m \u001b[0;34m\u001b[0m\u001b[0m\n\u001b[1;32m   2357\u001b[0m         \u001b[0;32mif\u001b[0m \u001b[0mlen\u001b[0m\u001b[0;34m(\u001b[0m\u001b[0mmapped\u001b[0m\u001b[0;34m)\u001b[0m \u001b[0;32mand\u001b[0m \u001b[0misinstance\u001b[0m\u001b[0;34m(\u001b[0m\u001b[0mmapped\u001b[0m\u001b[0;34m[\u001b[0m\u001b[0;36m0\u001b[0m\u001b[0;34m]\u001b[0m\u001b[0;34m,\u001b[0m \u001b[0mSeries\u001b[0m\u001b[0;34m)\u001b[0m\u001b[0;34m:\u001b[0m\u001b[0;34m\u001b[0m\u001b[0m\n",
      "\u001b[0;32mpandas/_libs/src/inference.pyx\u001b[0m in \u001b[0;36mpandas._libs.lib.map_infer (pandas/_libs/lib.c:66645)\u001b[0;34m()\u001b[0m\n",
      "\u001b[0;32m<ipython-input-21-c1e4c237663e>\u001b[0m in \u001b[0;36m<lambda>\u001b[0;34m(x)\u001b[0m\n\u001b[1;32m      1\u001b[0m \u001b[0mdf\u001b[0m\u001b[0;34m[\u001b[0m\u001b[0;34m'clst'\u001b[0m\u001b[0;34m]\u001b[0m \u001b[0;34m=\u001b[0m \u001b[0mclst\u001b[0m\u001b[0;34m\u001b[0m\u001b[0m\n\u001b[0;32m----> 2\u001b[0;31m \u001b[0mdf\u001b[0m\u001b[0;34m[\u001b[0m\u001b[0;34m'first_cat'\u001b[0m\u001b[0;34m]\u001b[0m \u001b[0;34m=\u001b[0m \u001b[0mdf\u001b[0m\u001b[0;34m.\u001b[0m\u001b[0mcategories\u001b[0m\u001b[0;34m.\u001b[0m\u001b[0mapply\u001b[0m\u001b[0;34m(\u001b[0m\u001b[0;32mlambda\u001b[0m \u001b[0mx\u001b[0m\u001b[0;34m:\u001b[0m \u001b[0mint\u001b[0m\u001b[0;34m(\u001b[0m\u001b[0mx\u001b[0m\u001b[0;34m[\u001b[0m\u001b[0;36m0\u001b[0m\u001b[0;34m]\u001b[0m\u001b[0;34m)\u001b[0m\u001b[0;34m)\u001b[0m\u001b[0;34m\u001b[0m\u001b[0m\n\u001b[0m",
      "\u001b[0;31mValueError\u001b[0m: invalid literal for int() with base 10: '['"
     ]
    }
   ],
   "source": [
    "df['clst'] = clst\n",
    "df['first_cat'] = df.categories.apply(lambda x: int(x[0]))"
   ]
  },
  {
   "cell_type": "code",
   "execution_count": null,
   "metadata": {},
   "outputs": [],
   "source": [
    "from sklearn.metrics import confusion_matrix\n",
    "cm = confusion_matrix(y_pred=df.clst,y_true=df.first_cat)\n",
    "sns.heatmap(cm)"
   ]
  },
  {
   "cell_type": "code",
   "execution_count": null,
   "metadata": {
    "collapsed": true
   },
   "outputs": [],
   "source": [
    "from sklearn.feature_extraction.text import TfidfTransformer,TfidfVectorizer\n",
    "\n",
    "vectorizer = TfidfVectorizer(max_df=0.4, max_features=500,min_df=2,use_idf=False)\n",
    "\n",
    "X_tfidf = vectorizer.fit_transform(df.descriptions)"
   ]
  },
  {
   "cell_type": "code",
   "execution_count": null,
   "metadata": {},
   "outputs": [],
   "source": [
    "X_tfidf\n",
    "km = KMeans(n_clusters=13,n_jobs=4,random_state=2016,max_iter=1000)\n",
    "clst = km.fit_predict(X_tfidf)\n",
    "df['clst'] = clst\n",
    "cm = confusion_matrix(y_pred=df.clst,y_true=df.first_cat)\n",
    "sns.heatmap(cm)"
   ]
  },
  {
   "cell_type": "code",
   "execution_count": null,
   "metadata": {},
   "outputs": [],
   "source": [
    "from gensim.corpora import Dictionary, MmCorpus\n",
    "from gensim.models.ldamulticore import LdaMulticore\n",
    "\n",
    "import pyLDAvis\n",
    "import pyLDAvis.gensim\n",
    "import warnings"
   ]
  },
  {
   "cell_type": "code",
   "execution_count": null,
   "metadata": {},
   "outputs": [],
   "source": [
    "dictionary = X_counts.get_feature_names()"
   ]
  },
  {
   "cell_type": "code",
   "execution_count": null,
   "metadata": {},
   "outputs": [],
   "source": [
    "lda = LdaMulticore(X_tfidf,num_topics=15,workers=4)"
   ]
  },
  {
   "cell_type": "code",
   "execution_count": null,
   "metadata": {
    "collapsed": true
   },
   "outputs": [],
   "source": []
  }
 ],
 "metadata": {
  "kernelspec": {
   "display_name": "Python 3",
   "language": "python",
   "name": "python3"
  },
  "language_info": {
   "codemirror_mode": {
    "name": "ipython",
    "version": 3
   },
   "file_extension": ".py",
   "mimetype": "text/x-python",
   "name": "python",
   "nbconvert_exporter": "python",
   "pygments_lexer": "ipython3",
   "version": "3.5.2"
  }
 },
 "nbformat": 4,
 "nbformat_minor": 2
}
