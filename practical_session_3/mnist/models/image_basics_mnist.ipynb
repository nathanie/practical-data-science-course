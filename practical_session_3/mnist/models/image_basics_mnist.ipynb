{
 "cells": [
  {
   "cell_type": "code",
   "execution_count": 1,
   "metadata": {},
   "outputs": [
    {
     "name": "stderr",
     "output_type": "stream",
     "text": [
      "Using TensorFlow backend.\n"
     ]
    }
   ],
   "source": [
    "import numpy as np # linear algebra\n",
    "import pandas as pd # data processing, CSV file I/O (e.g. pd.read_csv)\n",
    "\n",
    "import matplotlib.pyplot as plt\n",
    "%matplotlib inline\n",
    "\n",
    "from keras.models import Sequential\n",
    "from keras.layers import Dense , Dropout , Lambda, Flatten\n",
    "from keras.optimizers import SGD\n",
    "from sklearn.model_selection import train_test_split"
   ]
  },
  {
   "cell_type": "code",
   "execution_count": 2,
   "metadata": {},
   "outputs": [
    {
     "name": "stdout",
     "output_type": "stream",
     "text": [
      "train shape: (42000, 785)\n",
      "test shape: (28000, 784)\n",
      "train data head:\n"
     ]
    },
    {
     "data": {
      "text/html": [
       "<div>\n",
       "<style>\n",
       "    .dataframe thead tr:only-child th {\n",
       "        text-align: right;\n",
       "    }\n",
       "\n",
       "    .dataframe thead th {\n",
       "        text-align: left;\n",
       "    }\n",
       "\n",
       "    .dataframe tbody tr th {\n",
       "        vertical-align: top;\n",
       "    }\n",
       "</style>\n",
       "<table border=\"1\" class=\"dataframe\">\n",
       "  <thead>\n",
       "    <tr style=\"text-align: right;\">\n",
       "      <th></th>\n",
       "      <th>label</th>\n",
       "      <th>pixel0</th>\n",
       "      <th>pixel1</th>\n",
       "      <th>pixel2</th>\n",
       "      <th>pixel3</th>\n",
       "      <th>pixel4</th>\n",
       "      <th>pixel5</th>\n",
       "      <th>pixel6</th>\n",
       "      <th>pixel7</th>\n",
       "      <th>pixel8</th>\n",
       "      <th>...</th>\n",
       "      <th>pixel774</th>\n",
       "      <th>pixel775</th>\n",
       "      <th>pixel776</th>\n",
       "      <th>pixel777</th>\n",
       "      <th>pixel778</th>\n",
       "      <th>pixel779</th>\n",
       "      <th>pixel780</th>\n",
       "      <th>pixel781</th>\n",
       "      <th>pixel782</th>\n",
       "      <th>pixel783</th>\n",
       "    </tr>\n",
       "  </thead>\n",
       "  <tbody>\n",
       "    <tr>\n",
       "      <th>0</th>\n",
       "      <td>1</td>\n",
       "      <td>0</td>\n",
       "      <td>0</td>\n",
       "      <td>0</td>\n",
       "      <td>0</td>\n",
       "      <td>0</td>\n",
       "      <td>0</td>\n",
       "      <td>0</td>\n",
       "      <td>0</td>\n",
       "      <td>0</td>\n",
       "      <td>...</td>\n",
       "      <td>0</td>\n",
       "      <td>0</td>\n",
       "      <td>0</td>\n",
       "      <td>0</td>\n",
       "      <td>0</td>\n",
       "      <td>0</td>\n",
       "      <td>0</td>\n",
       "      <td>0</td>\n",
       "      <td>0</td>\n",
       "      <td>0</td>\n",
       "    </tr>\n",
       "    <tr>\n",
       "      <th>1</th>\n",
       "      <td>0</td>\n",
       "      <td>0</td>\n",
       "      <td>0</td>\n",
       "      <td>0</td>\n",
       "      <td>0</td>\n",
       "      <td>0</td>\n",
       "      <td>0</td>\n",
       "      <td>0</td>\n",
       "      <td>0</td>\n",
       "      <td>0</td>\n",
       "      <td>...</td>\n",
       "      <td>0</td>\n",
       "      <td>0</td>\n",
       "      <td>0</td>\n",
       "      <td>0</td>\n",
       "      <td>0</td>\n",
       "      <td>0</td>\n",
       "      <td>0</td>\n",
       "      <td>0</td>\n",
       "      <td>0</td>\n",
       "      <td>0</td>\n",
       "    </tr>\n",
       "    <tr>\n",
       "      <th>2</th>\n",
       "      <td>1</td>\n",
       "      <td>0</td>\n",
       "      <td>0</td>\n",
       "      <td>0</td>\n",
       "      <td>0</td>\n",
       "      <td>0</td>\n",
       "      <td>0</td>\n",
       "      <td>0</td>\n",
       "      <td>0</td>\n",
       "      <td>0</td>\n",
       "      <td>...</td>\n",
       "      <td>0</td>\n",
       "      <td>0</td>\n",
       "      <td>0</td>\n",
       "      <td>0</td>\n",
       "      <td>0</td>\n",
       "      <td>0</td>\n",
       "      <td>0</td>\n",
       "      <td>0</td>\n",
       "      <td>0</td>\n",
       "      <td>0</td>\n",
       "    </tr>\n",
       "    <tr>\n",
       "      <th>3</th>\n",
       "      <td>4</td>\n",
       "      <td>0</td>\n",
       "      <td>0</td>\n",
       "      <td>0</td>\n",
       "      <td>0</td>\n",
       "      <td>0</td>\n",
       "      <td>0</td>\n",
       "      <td>0</td>\n",
       "      <td>0</td>\n",
       "      <td>0</td>\n",
       "      <td>...</td>\n",
       "      <td>0</td>\n",
       "      <td>0</td>\n",
       "      <td>0</td>\n",
       "      <td>0</td>\n",
       "      <td>0</td>\n",
       "      <td>0</td>\n",
       "      <td>0</td>\n",
       "      <td>0</td>\n",
       "      <td>0</td>\n",
       "      <td>0</td>\n",
       "    </tr>\n",
       "    <tr>\n",
       "      <th>4</th>\n",
       "      <td>0</td>\n",
       "      <td>0</td>\n",
       "      <td>0</td>\n",
       "      <td>0</td>\n",
       "      <td>0</td>\n",
       "      <td>0</td>\n",
       "      <td>0</td>\n",
       "      <td>0</td>\n",
       "      <td>0</td>\n",
       "      <td>0</td>\n",
       "      <td>...</td>\n",
       "      <td>0</td>\n",
       "      <td>0</td>\n",
       "      <td>0</td>\n",
       "      <td>0</td>\n",
       "      <td>0</td>\n",
       "      <td>0</td>\n",
       "      <td>0</td>\n",
       "      <td>0</td>\n",
       "      <td>0</td>\n",
       "      <td>0</td>\n",
       "    </tr>\n",
       "  </tbody>\n",
       "</table>\n",
       "<p>5 rows × 785 columns</p>\n",
       "</div>"
      ],
      "text/plain": [
       "   label  pixel0  pixel1  pixel2  pixel3  pixel4  pixel5  pixel6  pixel7  \\\n",
       "0      1       0       0       0       0       0       0       0       0   \n",
       "1      0       0       0       0       0       0       0       0       0   \n",
       "2      1       0       0       0       0       0       0       0       0   \n",
       "3      4       0       0       0       0       0       0       0       0   \n",
       "4      0       0       0       0       0       0       0       0       0   \n",
       "\n",
       "   pixel8    ...     pixel774  pixel775  pixel776  pixel777  pixel778  \\\n",
       "0       0    ...            0         0         0         0         0   \n",
       "1       0    ...            0         0         0         0         0   \n",
       "2       0    ...            0         0         0         0         0   \n",
       "3       0    ...            0         0         0         0         0   \n",
       "4       0    ...            0         0         0         0         0   \n",
       "\n",
       "   pixel779  pixel780  pixel781  pixel782  pixel783  \n",
       "0         0         0         0         0         0  \n",
       "1         0         0         0         0         0  \n",
       "2         0         0         0         0         0  \n",
       "3         0         0         0         0         0  \n",
       "4         0         0         0         0         0  \n",
       "\n",
       "[5 rows x 785 columns]"
      ]
     },
     "execution_count": 2,
     "metadata": {},
     "output_type": "execute_result"
    }
   ],
   "source": [
    "tr_data = pd.read_csv('../input/train.csv')\n",
    "te_data = pd.read_csv('../input/test.csv')\n",
    "print('train shape: {}'.format(tr_data.shape))\n",
    "print('test shape: {}'.format(te_data.shape))\n",
    "print('train data head:')\n",
    "tr_data.head()\n"
   ]
  },
  {
   "cell_type": "markdown",
   "metadata": {},
   "source": [
    "as we can see the data has 785 columns which are 28*28 pixels +1 labels column (which will only appear in the train data)"
   ]
  },
  {
   "cell_type": "code",
   "execution_count": 3,
   "metadata": {
    "scrolled": true
   },
   "outputs": [
    {
     "name": "stdout",
     "output_type": "stream",
     "text": [
      "test data head:\n"
     ]
    },
    {
     "data": {
      "text/html": [
       "<div>\n",
       "<style>\n",
       "    .dataframe thead tr:only-child th {\n",
       "        text-align: right;\n",
       "    }\n",
       "\n",
       "    .dataframe thead th {\n",
       "        text-align: left;\n",
       "    }\n",
       "\n",
       "    .dataframe tbody tr th {\n",
       "        vertical-align: top;\n",
       "    }\n",
       "</style>\n",
       "<table border=\"1\" class=\"dataframe\">\n",
       "  <thead>\n",
       "    <tr style=\"text-align: right;\">\n",
       "      <th></th>\n",
       "      <th>pixel0</th>\n",
       "      <th>pixel1</th>\n",
       "      <th>pixel2</th>\n",
       "      <th>pixel3</th>\n",
       "      <th>pixel4</th>\n",
       "      <th>pixel5</th>\n",
       "      <th>pixel6</th>\n",
       "      <th>pixel7</th>\n",
       "      <th>pixel8</th>\n",
       "      <th>pixel9</th>\n",
       "      <th>...</th>\n",
       "      <th>pixel774</th>\n",
       "      <th>pixel775</th>\n",
       "      <th>pixel776</th>\n",
       "      <th>pixel777</th>\n",
       "      <th>pixel778</th>\n",
       "      <th>pixel779</th>\n",
       "      <th>pixel780</th>\n",
       "      <th>pixel781</th>\n",
       "      <th>pixel782</th>\n",
       "      <th>pixel783</th>\n",
       "    </tr>\n",
       "  </thead>\n",
       "  <tbody>\n",
       "    <tr>\n",
       "      <th>0</th>\n",
       "      <td>0</td>\n",
       "      <td>0</td>\n",
       "      <td>0</td>\n",
       "      <td>0</td>\n",
       "      <td>0</td>\n",
       "      <td>0</td>\n",
       "      <td>0</td>\n",
       "      <td>0</td>\n",
       "      <td>0</td>\n",
       "      <td>0</td>\n",
       "      <td>...</td>\n",
       "      <td>0</td>\n",
       "      <td>0</td>\n",
       "      <td>0</td>\n",
       "      <td>0</td>\n",
       "      <td>0</td>\n",
       "      <td>0</td>\n",
       "      <td>0</td>\n",
       "      <td>0</td>\n",
       "      <td>0</td>\n",
       "      <td>0</td>\n",
       "    </tr>\n",
       "    <tr>\n",
       "      <th>1</th>\n",
       "      <td>0</td>\n",
       "      <td>0</td>\n",
       "      <td>0</td>\n",
       "      <td>0</td>\n",
       "      <td>0</td>\n",
       "      <td>0</td>\n",
       "      <td>0</td>\n",
       "      <td>0</td>\n",
       "      <td>0</td>\n",
       "      <td>0</td>\n",
       "      <td>...</td>\n",
       "      <td>0</td>\n",
       "      <td>0</td>\n",
       "      <td>0</td>\n",
       "      <td>0</td>\n",
       "      <td>0</td>\n",
       "      <td>0</td>\n",
       "      <td>0</td>\n",
       "      <td>0</td>\n",
       "      <td>0</td>\n",
       "      <td>0</td>\n",
       "    </tr>\n",
       "    <tr>\n",
       "      <th>2</th>\n",
       "      <td>0</td>\n",
       "      <td>0</td>\n",
       "      <td>0</td>\n",
       "      <td>0</td>\n",
       "      <td>0</td>\n",
       "      <td>0</td>\n",
       "      <td>0</td>\n",
       "      <td>0</td>\n",
       "      <td>0</td>\n",
       "      <td>0</td>\n",
       "      <td>...</td>\n",
       "      <td>0</td>\n",
       "      <td>0</td>\n",
       "      <td>0</td>\n",
       "      <td>0</td>\n",
       "      <td>0</td>\n",
       "      <td>0</td>\n",
       "      <td>0</td>\n",
       "      <td>0</td>\n",
       "      <td>0</td>\n",
       "      <td>0</td>\n",
       "    </tr>\n",
       "    <tr>\n",
       "      <th>3</th>\n",
       "      <td>0</td>\n",
       "      <td>0</td>\n",
       "      <td>0</td>\n",
       "      <td>0</td>\n",
       "      <td>0</td>\n",
       "      <td>0</td>\n",
       "      <td>0</td>\n",
       "      <td>0</td>\n",
       "      <td>0</td>\n",
       "      <td>0</td>\n",
       "      <td>...</td>\n",
       "      <td>0</td>\n",
       "      <td>0</td>\n",
       "      <td>0</td>\n",
       "      <td>0</td>\n",
       "      <td>0</td>\n",
       "      <td>0</td>\n",
       "      <td>0</td>\n",
       "      <td>0</td>\n",
       "      <td>0</td>\n",
       "      <td>0</td>\n",
       "    </tr>\n",
       "    <tr>\n",
       "      <th>4</th>\n",
       "      <td>0</td>\n",
       "      <td>0</td>\n",
       "      <td>0</td>\n",
       "      <td>0</td>\n",
       "      <td>0</td>\n",
       "      <td>0</td>\n",
       "      <td>0</td>\n",
       "      <td>0</td>\n",
       "      <td>0</td>\n",
       "      <td>0</td>\n",
       "      <td>...</td>\n",
       "      <td>0</td>\n",
       "      <td>0</td>\n",
       "      <td>0</td>\n",
       "      <td>0</td>\n",
       "      <td>0</td>\n",
       "      <td>0</td>\n",
       "      <td>0</td>\n",
       "      <td>0</td>\n",
       "      <td>0</td>\n",
       "      <td>0</td>\n",
       "    </tr>\n",
       "  </tbody>\n",
       "</table>\n",
       "<p>5 rows × 784 columns</p>\n",
       "</div>"
      ],
      "text/plain": [
       "   pixel0  pixel1  pixel2  pixel3  pixel4  pixel5  pixel6  pixel7  pixel8  \\\n",
       "0       0       0       0       0       0       0       0       0       0   \n",
       "1       0       0       0       0       0       0       0       0       0   \n",
       "2       0       0       0       0       0       0       0       0       0   \n",
       "3       0       0       0       0       0       0       0       0       0   \n",
       "4       0       0       0       0       0       0       0       0       0   \n",
       "\n",
       "   pixel9    ...     pixel774  pixel775  pixel776  pixel777  pixel778  \\\n",
       "0       0    ...            0         0         0         0         0   \n",
       "1       0    ...            0         0         0         0         0   \n",
       "2       0    ...            0         0         0         0         0   \n",
       "3       0    ...            0         0         0         0         0   \n",
       "4       0    ...            0         0         0         0         0   \n",
       "\n",
       "   pixel779  pixel780  pixel781  pixel782  pixel783  \n",
       "0         0         0         0         0         0  \n",
       "1         0         0         0         0         0  \n",
       "2         0         0         0         0         0  \n",
       "3         0         0         0         0         0  \n",
       "4         0         0         0         0         0  \n",
       "\n",
       "[5 rows x 784 columns]"
      ]
     },
     "execution_count": 3,
     "metadata": {},
     "output_type": "execute_result"
    }
   ],
   "source": [
    "print('test data head:')\n",
    "te_data.head()"
   ]
  },
  {
   "cell_type": "markdown",
   "metadata": {},
   "source": [
    "as usual lets separate our training data from the labels"
   ]
  },
  {
   "cell_type": "code",
   "execution_count": 4,
   "metadata": {
    "collapsed": true
   },
   "outputs": [],
   "source": [
    "X_train = tr_data.iloc[:,1:].values.astype('float32') # all pixel values\n",
    "y_train = tr_data.iloc[:,0].values.astype('int32') # only labels i.e targets digits\n",
    "X_test = te_data.values.astype('float32')"
   ]
  },
  {
   "cell_type": "code",
   "execution_count": 9,
   "metadata": {},
   "outputs": [
    {
     "name": "stdout",
     "output_type": "stream",
     "text": [
      "[0]\ttrain-mlogloss:1.69801+0.0032127\ttest-mlogloss:1.71193+0.00702032\n",
      "[2]\ttrain-mlogloss:1.1779+0.00332384\ttest-mlogloss:1.20553+0.00647845\n",
      "[4]\ttrain-mlogloss:0.883198+0.00420416\ttest-mlogloss:0.917629+0.00597328\n",
      "[6]\ttrain-mlogloss:0.688887+0.00174742\ttest-mlogloss:0.7287+0.00747862\n",
      "[8]\ttrain-mlogloss:0.554026+0.00224428\ttest-mlogloss:0.598385+0.00718724\n",
      "[10]\ttrain-mlogloss:0.4555+0.00216103\ttest-mlogloss:0.503589+0.00699719\n",
      "[12]\ttrain-mlogloss:0.38099+0.00226145\ttest-mlogloss:0.432329+0.00688715\n",
      "[14]\ttrain-mlogloss:0.323871+0.00305608\ttest-mlogloss:0.378545+0.00634408\n",
      "[16]\ttrain-mlogloss:0.278592+0.00306677\ttest-mlogloss:0.335212+0.0061126\n",
      "[18]\ttrain-mlogloss:0.24304+0.00233473\ttest-mlogloss:0.302117+0.00646911\n",
      "[20]\ttrain-mlogloss:0.214098+0.00200352\ttest-mlogloss:0.275589+0.00671574\n",
      "[22]\ttrain-mlogloss:0.190429+0.00209449\ttest-mlogloss:0.253872+0.00635668\n",
      "[24]\ttrain-mlogloss:0.170813+0.00181613\ttest-mlogloss:0.236119+0.00625868\n",
      "[26]\ttrain-mlogloss:0.153368+0.00155479\ttest-mlogloss:0.220444+0.00592237\n",
      "[28]\ttrain-mlogloss:0.138864+0.00136607\ttest-mlogloss:0.20737+0.00599197\n",
      "CPU times: user 25min 30s, sys: 3.35 s, total: 25min 33s\n",
      "Wall time: 6min 35s\n"
     ]
    }
   ],
   "source": [
    "%%time\n",
    "import xgboost as xgb\n",
    "params = {'objective':'multi:softprob',\n",
    "                    'learning_rate':0.2,\n",
    "                    'subsample':0.8,\n",
    "                    'colsample_bytree':0.9,\n",
    "                    'colsample_bylevel':0.7,\n",
    "                    'max_depth':5,\n",
    "                    'nthread':4,\n",
    "                    'eval_metric':'mlogloss',\n",
    "                    'n_estimators':100,\n",
    "                    'num_class':10,\n",
    "                    'seed':1234}\n",
    "bst_cv = xgb.cv(params=params,dtrain=xgb.DMatrix(X_train,label=y_train),verbose_eval=2,\n",
    "                nfold=5,early_stopping_rounds=20,num_boost_round=30)\n"
   ]
  },
  {
   "cell_type": "code",
   "execution_count": 13,
   "metadata": {},
   "outputs": [
    {
     "name": "stdout",
     "output_type": "stream",
     "text": [
      "CPU times: user 1h 50s, sys: 2.41 s, total: 1h 52s\n",
      "Wall time: 16min 8s\n"
     ]
    }
   ],
   "source": [
    "%%time\n",
    "from sklearn.neighbors import KNeighborsClassifier\n",
    "from sklearn.model_selection import cross_val_score,KFold\n",
    "knn4 = KNeighborsClassifier(n_jobs=-1,n_neighbors=4)\n",
    "print(cross_val_score(cv=5,estimator=knn4,X=X_train,y=y_train))"
   ]
  },
  {
   "cell_type": "code",
   "execution_count": 19,
   "metadata": {
    "scrolled": true
   },
   "outputs": [
    {
     "ename": "ValueError",
     "evalue": "Found array with dim 4. Estimator expected <= 2.",
     "output_type": "error",
     "traceback": [
      "\u001b[0;31m---------------------------------------------------------------------------\u001b[0m",
      "\u001b[0;31mValueError\u001b[0m                                Traceback (most recent call last)",
      "\u001b[0;32m<ipython-input-19-71a1cc68eac1>\u001b[0m in \u001b[0;36m<module>\u001b[0;34m()\u001b[0m\n\u001b[1;32m     11\u001b[0m                     seed=1234)\n\u001b[1;32m     12\u001b[0m \u001b[0mrfecv\u001b[0m \u001b[0;34m=\u001b[0m \u001b[0mRFECV\u001b[0m\u001b[0;34m(\u001b[0m\u001b[0mestimator\u001b[0m\u001b[0;34m=\u001b[0m\u001b[0mgbc\u001b[0m\u001b[0;34m,\u001b[0m \u001b[0mstep\u001b[0m\u001b[0;34m=\u001b[0m\u001b[0;36m5\u001b[0m\u001b[0;34m,\u001b[0m \u001b[0mcv\u001b[0m\u001b[0;34m=\u001b[0m\u001b[0;36m5\u001b[0m\u001b[0;34m,\u001b[0m \u001b[0mscoring\u001b[0m\u001b[0;34m=\u001b[0m\u001b[0;34m'neg_log_loss'\u001b[0m\u001b[0;34m)\u001b[0m\u001b[0;34m\u001b[0m\u001b[0m\n\u001b[0;32m---> 13\u001b[0;31m \u001b[0mrfecv\u001b[0m\u001b[0;34m.\u001b[0m\u001b[0mfit\u001b[0m\u001b[0;34m(\u001b[0m\u001b[0mX_train\u001b[0m\u001b[0;34m,\u001b[0m \u001b[0my_train\u001b[0m\u001b[0;34m)\u001b[0m\u001b[0;34m\u001b[0m\u001b[0m\n\u001b[0m\u001b[1;32m     14\u001b[0m \u001b[0mprint\u001b[0m\u001b[0;34m(\u001b[0m\u001b[0;34m\"Optimal number of features :{}\"\u001b[0m\u001b[0;34m.\u001b[0m\u001b[0mformat\u001b[0m\u001b[0;34m(\u001b[0m\u001b[0mrfecv\u001b[0m\u001b[0;34m.\u001b[0m\u001b[0mn_features_\u001b[0m\u001b[0;34m)\u001b[0m\u001b[0;34m)\u001b[0m\u001b[0;34m\u001b[0m\u001b[0m\n\u001b[1;32m     15\u001b[0m \u001b[0mprint\u001b[0m\u001b[0;34m(\u001b[0m\u001b[0;34m'rfecv rankings: {}'\u001b[0m\u001b[0;34m.\u001b[0m\u001b[0mformat\u001b[0m\u001b[0;34m(\u001b[0m\u001b[0mrfecv\u001b[0m\u001b[0;34m.\u001b[0m\u001b[0mranking_\u001b[0m\u001b[0;34m)\u001b[0m\u001b[0;34m)\u001b[0m\u001b[0;34m\u001b[0m\u001b[0m\n",
      "\u001b[0;32m/usr/local/lib/python3.5/dist-packages/sklearn/feature_selection/rfe.py\u001b[0m in \u001b[0;36mfit\u001b[0;34m(self, X, y)\u001b[0m\n\u001b[1;32m    390\u001b[0m             regression).\n\u001b[1;32m    391\u001b[0m         \"\"\"\n\u001b[0;32m--> 392\u001b[0;31m         \u001b[0mX\u001b[0m\u001b[0;34m,\u001b[0m \u001b[0my\u001b[0m \u001b[0;34m=\u001b[0m \u001b[0mcheck_X_y\u001b[0m\u001b[0;34m(\u001b[0m\u001b[0mX\u001b[0m\u001b[0;34m,\u001b[0m \u001b[0my\u001b[0m\u001b[0;34m,\u001b[0m \u001b[0;34m\"csr\"\u001b[0m\u001b[0;34m)\u001b[0m\u001b[0;34m\u001b[0m\u001b[0m\n\u001b[0m\u001b[1;32m    393\u001b[0m \u001b[0;34m\u001b[0m\u001b[0m\n\u001b[1;32m    394\u001b[0m         \u001b[0;31m# Initialization\u001b[0m\u001b[0;34m\u001b[0m\u001b[0;34m\u001b[0m\u001b[0m\n",
      "\u001b[0;32m/usr/local/lib/python3.5/dist-packages/sklearn/utils/validation.py\u001b[0m in \u001b[0;36mcheck_X_y\u001b[0;34m(X, y, accept_sparse, dtype, order, copy, force_all_finite, ensure_2d, allow_nd, multi_output, ensure_min_samples, ensure_min_features, y_numeric, warn_on_dtype, estimator)\u001b[0m\n\u001b[1;32m    519\u001b[0m     X = check_array(X, accept_sparse, dtype, order, copy, force_all_finite,\n\u001b[1;32m    520\u001b[0m                     \u001b[0mensure_2d\u001b[0m\u001b[0;34m,\u001b[0m \u001b[0mallow_nd\u001b[0m\u001b[0;34m,\u001b[0m \u001b[0mensure_min_samples\u001b[0m\u001b[0;34m,\u001b[0m\u001b[0;34m\u001b[0m\u001b[0m\n\u001b[0;32m--> 521\u001b[0;31m                     ensure_min_features, warn_on_dtype, estimator)\n\u001b[0m\u001b[1;32m    522\u001b[0m     \u001b[0;32mif\u001b[0m \u001b[0mmulti_output\u001b[0m\u001b[0;34m:\u001b[0m\u001b[0;34m\u001b[0m\u001b[0m\n\u001b[1;32m    523\u001b[0m         y = check_array(y, 'csr', force_all_finite=True, ensure_2d=False,\n",
      "\u001b[0;32m/usr/local/lib/python3.5/dist-packages/sklearn/utils/validation.py\u001b[0m in \u001b[0;36mcheck_array\u001b[0;34m(array, accept_sparse, dtype, order, copy, force_all_finite, ensure_2d, allow_nd, ensure_min_samples, ensure_min_features, warn_on_dtype, estimator)\u001b[0m\n\u001b[1;32m    403\u001b[0m         \u001b[0;32mif\u001b[0m \u001b[0;32mnot\u001b[0m \u001b[0mallow_nd\u001b[0m \u001b[0;32mand\u001b[0m \u001b[0marray\u001b[0m\u001b[0;34m.\u001b[0m\u001b[0mndim\u001b[0m \u001b[0;34m>=\u001b[0m \u001b[0;36m3\u001b[0m\u001b[0;34m:\u001b[0m\u001b[0;34m\u001b[0m\u001b[0m\n\u001b[1;32m    404\u001b[0m             raise ValueError(\"Found array with dim %d. %s expected <= 2.\"\n\u001b[0;32m--> 405\u001b[0;31m                              % (array.ndim, estimator_name))\n\u001b[0m\u001b[1;32m    406\u001b[0m         \u001b[0;32mif\u001b[0m \u001b[0mforce_all_finite\u001b[0m\u001b[0;34m:\u001b[0m\u001b[0;34m\u001b[0m\u001b[0m\n\u001b[1;32m    407\u001b[0m             \u001b[0m_assert_all_finite\u001b[0m\u001b[0;34m(\u001b[0m\u001b[0marray\u001b[0m\u001b[0;34m)\u001b[0m\u001b[0;34m\u001b[0m\u001b[0m\n",
      "\u001b[0;31mValueError\u001b[0m: Found array with dim 4. Estimator expected <= 2."
     ]
    }
   ],
   "source": [
    "from xgboost import XGBClassifier\n",
    "from sklearn.feature_selection import RFECV\n",
    "gbc = XGBClassifier(objective='multi:softprob',\n",
    "                    learning_rate=0.2,\n",
    "                    subsample=0.9,\n",
    "                    colsample_bytree=1,\n",
    "                    colsample_bylevel=1,\n",
    "                    max_depth=3,\n",
    "                    nthread=4,\n",
    "                    n_estimators=10,\n",
    "                    seed=1234)\n",
    "rfecv = RFECV(estimator=gbc, step=5, cv=5, scoring='neg_log_loss')\n",
    "rfecv.fit(X_train, y_train)\n",
    "print(\"Optimal number of features :{}\".format(rfecv.n_features_))\n",
    "print('rfecv rankings: {}'.format(rfecv.ranking_))"
   ]
  },
  {
   "cell_type": "markdown",
   "metadata": {},
   "source": [
    "now lets try to use only these features for prediction:"
   ]
  },
  {
   "cell_type": "code",
   "execution_count": 7,
   "metadata": {},
   "outputs": [
    {
     "data": {
      "image/png": "[encoded data removed]",
      "text/plain": [
       "<matplotlib.figure.Figure at 0x7f9d98785400>"
      ]
     },
     "metadata": {},
     "output_type": "display_data"
    }
   ],
   "source": [
    "X_train = X_train.reshape(X_train.shape[0], 28, 28)\n",
    "\n",
    "for i in range(0, 9):\n",
    "    plt.subplot(330 + (i+1))\n",
    "    plt.imshow(X_train[i], cmap=plt.get_cmap('Greens'))\n",
    "    plt.title(y_train[i])"
   ]
  },
  {
   "cell_type": "code",
   "execution_count": null,
   "metadata": {
    "collapsed": true
   },
   "outputs": [],
   "source": [
    "# add code here to use only selected features\n",
    "\n"
   ]
  },
  {
   "cell_type": "markdown",
   "metadata": {},
   "source": [
    "now lets see what NN can get on this data, \n",
    "but first we'll have to preprocess it:"
   ]
  },
  {
   "cell_type": "code",
   "execution_count": 8,
   "metadata": {
    "collapsed": true
   },
   "outputs": [],
   "source": [
    "train_mean = X_train.mean()\n",
    "train_std = X_train.std()\n",
    "\n",
    "X_train = (X_train-train_mean)/train_std\n",
    "X_text = (X_test-train_mean)/train_std # pay attention that we normalize by train data and not by test data"
   ]
  },
  {
   "cell_type": "markdown",
   "metadata": {},
   "source": [
    "as we learned, in classification tasks the output of each node in the last layer of the network represent the probability\n",
    "for each number - this means that we have to one-hot-encode each of the classes so that we will be able to compare the probability for each of the digits.\n",
    "\n",
    "luckily, keras can easily do that for us:"
   ]
  },
  {
   "cell_type": "code",
   "execution_count": 13,
   "metadata": {
    "collapsed": true
   },
   "outputs": [],
   "source": [
    "from keras.utils.np_utils import to_categorical\n",
    "OHE_y_train = to_categorical(y_train)\n",
    "num_classes = OHE_y_train.shape[1]\n",
    "X_train = X_train.reshape(X_train.shape[0], 28, 28,1)"
   ]
  },
  {
   "cell_type": "code",
   "execution_count": 20,
   "metadata": {},
   "outputs": [
    {
     "name": "stdout",
     "output_type": "stream",
     "text": [
      "_________________________________________________________________\n",
      "Layer (type)                 Output Shape              Param #   \n",
      "=================================================================\n",
      "flatten_7 (Flatten)          (None, 784)               0         \n",
      "_________________________________________________________________\n",
      "dense_12 (Dense)             (None, 10)                7850      \n",
      "=================================================================\n",
      "Total params: 7,850\n",
      "Trainable params: 7,850\n",
      "Non-trainable params: 0\n",
      "_________________________________________________________________\n",
      "Train on 33600 samples, validate on 8400 samples\n",
      "Epoch 1/10\n",
      "33600/33600 [==============================] - 5s - loss: 0.4254 - acc: 0.8734 - val_loss: 0.3148 - val_acc: 0.9082\n",
      "Epoch 2/10\n",
      "33600/33600 [==============================] - 5s - loss: 0.3070 - acc: 0.9126 - val_loss: 0.3208 - val_acc: 0.9055\n",
      "Epoch 3/10\n",
      "33600/33600 [==============================] - 5s - loss: 0.2932 - acc: 0.9171 - val_loss: 0.2999 - val_acc: 0.9161\n",
      "Epoch 4/10\n",
      "33600/33600 [==============================] - 5s - loss: 0.2843 - acc: 0.9203 - val_loss: 0.2902 - val_acc: 0.9212\n",
      "Epoch 5/10\n",
      "33600/33600 [==============================] - 5s - loss: 0.2778 - acc: 0.9233 - val_loss: 0.2950 - val_acc: 0.9204\n",
      "Epoch 6/10\n",
      "33600/33600 [==============================] - 5s - loss: 0.2728 - acc: 0.9262 - val_loss: 0.3124 - val_acc: 0.9163\n",
      "Epoch 7/10\n",
      "33600/33600 [==============================] - 5s - loss: 0.2709 - acc: 0.9245 - val_loss: 0.3111 - val_acc: 0.9177\n",
      "Epoch 8/10\n",
      "33600/33600 [==============================] - 5s - loss: 0.2667 - acc: 0.9263 - val_loss: 0.3114 - val_acc: 0.9175\n",
      "Epoch 9/10\n",
      "33600/33600 [==============================] - 5s - loss: 0.2650 - acc: 0.9268 - val_loss: 0.3018 - val_acc: 0.9200\n",
      "Epoch 10/10\n",
      "33600/33600 [==============================] - 5s - loss: 0.2635 - acc: 0.9289 - val_loss: 0.3051 - val_acc: 0.9187\n"
     ]
    },
    {
     "data": {
      "text/plain": [
       "<keras.callbacks.History at 0x7f9d74fdff98>"
      ]
     },
     "execution_count": 20,
     "metadata": {},
     "output_type": "execute_result"
    }
   ],
   "source": [
    "model= Sequential()\n",
    "model.add(Flatten(input_shape=(28,28,1)))\n",
    "model.add(Dense(10, activation='softmax'))\n",
    "\n",
    "model.summary()\n",
    "from keras.optimizers import RMSprop\n",
    "model.compile(optimizer=RMSprop(lr=0.001),\n",
    "    loss='categorical_crossentropy',\n",
    "    metrics=['accuracy'])\n",
    "\n",
    "\n",
    "model.fit(X_train,OHE_y_train,validation_split=0.2,shuffle=True)"
   ]
  },
  {
   "cell_type": "code",
   "execution_count": 34,
   "metadata": {},
   "outputs": [
    {
     "name": "stdout",
     "output_type": "stream",
     "text": [
      "_________________________________________________________________\n",
      "Layer (type)                 Output Shape              Param #   \n",
      "=================================================================\n",
      "flatten_21 (Flatten)         (None, 784)               0         \n",
      "_________________________________________________________________\n",
      "dense_43 (Dense)             (None, 10)                7850      \n",
      "=================================================================\n",
      "Total params: 7,850\n",
      "Trainable params: 7,850\n",
      "Non-trainable params: 0\n",
      "_________________________________________________________________\n",
      "Train on 33600 samples, validate on 8400 samples\n",
      "Epoch 1/10\n",
      "33600/33600 [==============================] - 5s - loss: 0.6076 - acc: 0.8153 - val_loss: 0.3653 - val_acc: 0.8938\n",
      "Epoch 2/10\n",
      "33600/33600 [==============================] - 5s - loss: 0.3409 - acc: 0.9008 - val_loss: 0.3213 - val_acc: 0.9088\n",
      "Epoch 3/10\n",
      "33600/33600 [==============================] - 5s - loss: 0.3111 - acc: 0.9092 - val_loss: 0.3096 - val_acc: 0.9107\n",
      "Epoch 4/10\n",
      "33600/33600 [==============================] - 5s - loss: 0.2965 - acc: 0.9147 - val_loss: 0.2945 - val_acc: 0.9171\n",
      "Epoch 5/10\n",
      "33600/33600 [==============================] - 5s - loss: 0.2867 - acc: 0.9179 - val_loss: 0.2942 - val_acc: 0.9154\n",
      "Epoch 6/10\n",
      "33600/33600 [==============================] - 5s - loss: 0.2797 - acc: 0.9204 - val_loss: 0.2901 - val_acc: 0.9182\n",
      "Epoch 7/10\n",
      "33600/33600 [==============================] - 5s - loss: 0.2745 - acc: 0.9217 - val_loss: 0.2898 - val_acc: 0.9169\n",
      "Epoch 8/10\n",
      "33600/33600 [==============================] - 5s - loss: 0.2697 - acc: 0.9227 - val_loss: 0.2871 - val_acc: 0.9182\n",
      "Epoch 9/10\n",
      "33600/33600 [==============================] - 5s - loss: 0.2666 - acc: 0.9244 - val_loss: 0.2799 - val_acc: 0.9219\n",
      "Epoch 10/10\n",
      "33600/33600 [==============================] - 5s - loss: 0.2638 - acc: 0.9249 - val_loss: 0.2821 - val_acc: 0.9224\n"
     ]
    },
    {
     "data": {
      "text/plain": [
       "<keras.callbacks.History at 0x7f9d643d6f98>"
      ]
     },
     "execution_count": 34,
     "metadata": {},
     "output_type": "execute_result"
    }
   ],
   "source": [
    "model= Sequential()\n",
    "model.add(Flatten(input_shape=(28,28,1)))\n",
    "model.add(Dense(10, activation='softmax'))\n",
    "\n",
    "model.summary()\n",
    "from keras.optimizers import Adadelta\n",
    "model.compile(optimizer=Adadelta(),\n",
    "    loss='categorical_crossentropy',\n",
    "    metrics=['accuracy'])\n",
    "\n",
    "\n",
    "model.fit(X_train,OHE_y_train,validation_split=0.2,shuffle=True)"
   ]
  },
  {
   "cell_type": "code",
   "execution_count": 36,
   "metadata": {
    "scrolled": false
   },
   "outputs": [
    {
     "name": "stdout",
     "output_type": "stream",
     "text": [
      "_________________________________________________________________\n",
      "Layer (type)                 Output Shape              Param #   \n",
      "=================================================================\n",
      "flatten_23 (Flatten)         (None, 784)               0         \n",
      "_________________________________________________________________\n",
      "dense_46 (Dense)             (None, 10)                7850      \n",
      "_________________________________________________________________\n",
      "dense_47 (Dense)             (None, 10)                110       \n",
      "=================================================================\n",
      "Total params: 7,960\n",
      "Trainable params: 7,960\n",
      "Non-trainable params: 0\n",
      "_________________________________________________________________\n",
      "Train on 33600 samples, validate on 8400 samples\n",
      "Epoch 1/10\n",
      "33600/33600 [==============================] - 6s - loss: 0.5244 - acc: 0.8434 - val_loss: 0.3413 - val_acc: 0.9029\n",
      "Epoch 2/10\n",
      "33600/33600 [==============================] - 5s - loss: 0.3217 - acc: 0.9062 - val_loss: 0.3216 - val_acc: 0.9055\n",
      "Epoch 3/10\n",
      "33600/33600 [==============================] - 6s - loss: 0.2917 - acc: 0.9158 - val_loss: 0.3033 - val_acc: 0.9135\n",
      "Epoch 4/10\n",
      "33600/33600 [==============================] - 5s - loss: 0.2731 - acc: 0.9207 - val_loss: 0.2855 - val_acc: 0.9176\n",
      "Epoch 5/10\n",
      "33600/33600 [==============================] - 5s - loss: 0.2600 - acc: 0.9250 - val_loss: 0.2771 - val_acc: 0.9213\n",
      "Epoch 6/10\n",
      "33600/33600 [==============================] - 5s - loss: 0.2489 - acc: 0.9281 - val_loss: 0.2839 - val_acc: 0.9198\n",
      "Epoch 7/10\n",
      "33600/33600 [==============================] - 5s - loss: 0.2391 - acc: 0.9313 - val_loss: 0.2762 - val_acc: 0.9207\n",
      "Epoch 8/10\n",
      "33600/33600 [==============================] - 5s - loss: 0.2347 - acc: 0.9324 - val_loss: 0.2739 - val_acc: 0.9245\n",
      "Epoch 9/10\n",
      "33600/33600 [==============================] - 5s - loss: 0.2299 - acc: 0.9328 - val_loss: 0.2725 - val_acc: 0.9260\n",
      "Epoch 10/10\n",
      "33600/33600 [==============================] - 5s - loss: 0.2258 - acc: 0.9354 - val_loss: 0.2682 - val_acc: 0.9246\n"
     ]
    },
    {
     "data": {
      "text/plain": [
       "<keras.callbacks.History at 0x7f9d5fff0c18>"
      ]
     },
     "execution_count": 36,
     "metadata": {},
     "output_type": "execute_result"
    }
   ],
   "source": [
    "model= Sequential()\n",
    "model.add(Flatten(input_shape=(28,28,1)))\n",
    "model.add(Dense(10, activation='relu'))\n",
    "model.add(Dense(10, activation='softmax'))\n",
    "\n",
    "model.summary()\n",
    "from keras.optimizers import RMSprop\n",
    "model.compile(optimizer=RMSprop(lr=0.001),\n",
    "    loss='categorical_crossentropy',\n",
    "    metrics=['accuracy'])\n",
    "\n",
    "\n",
    "model.fit(X_train,OHE_y_train,validation_split=0.2,shuffle=True)"
   ]
  },
  {
   "cell_type": "code",
   "execution_count": 22,
   "metadata": {
    "scrolled": false
   },
   "outputs": [
    {
     "name": "stdout",
     "output_type": "stream",
     "text": [
      "_________________________________________________________________\n",
      "Layer (type)                 Output Shape              Param #   \n",
      "=================================================================\n",
      "flatten_9 (Flatten)          (None, 784)               0         \n",
      "_________________________________________________________________\n",
      "dense_15 (Dense)             (None, 200)               157000    \n",
      "_________________________________________________________________\n",
      "dense_16 (Dense)             (None, 10)                2010      \n",
      "=================================================================\n",
      "Total params: 159,010\n",
      "Trainable params: 159,010\n",
      "Non-trainable params: 0\n",
      "_________________________________________________________________\n",
      "Train on 33600 samples, validate on 8400 samples\n",
      "Epoch 1/10\n",
      "33600/33600 [==============================] - 5s - loss: 0.2623 - acc: 0.9215 - val_loss: 0.1536 - val_acc: 0.9531\n",
      "Epoch 2/10\n",
      "33600/33600 [==============================] - 5s - loss: 0.1174 - acc: 0.9652 - val_loss: 0.1241 - val_acc: 0.9654\n",
      "Epoch 3/10\n",
      "33600/33600 [==============================] - 5s - loss: 0.0824 - acc: 0.9746 - val_loss: 0.1223 - val_acc: 0.9683\n",
      "Epoch 4/10\n",
      "33600/33600 [==============================] - 5s - loss: 0.0637 - acc: 0.9808 - val_loss: 0.1200 - val_acc: 0.9708\n",
      "Epoch 5/10\n",
      "33600/33600 [==============================] - 5s - loss: 0.0469 - acc: 0.9864 - val_loss: 0.1283 - val_acc: 0.9724\n",
      "Epoch 6/10\n",
      "33600/33600 [==============================] - 5s - loss: 0.0397 - acc: 0.9883 - val_loss: 0.1289 - val_acc: 0.9705\n",
      "Epoch 7/10\n",
      "33600/33600 [==============================] - 5s - loss: 0.0326 - acc: 0.9899 - val_loss: 0.1401 - val_acc: 0.9712\n",
      "Epoch 8/10\n",
      "33600/33600 [==============================] - 5s - loss: 0.0255 - acc: 0.9923 - val_loss: 0.1285 - val_acc: 0.9758\n",
      "Epoch 9/10\n",
      "33600/33600 [==============================] - 5s - loss: 0.0205 - acc: 0.9937 - val_loss: 0.1322 - val_acc: 0.9743\n",
      "Epoch 10/10\n",
      "33600/33600 [==============================] - 5s - loss: 0.0164 - acc: 0.9950 - val_loss: 0.1582 - val_acc: 0.9718\n"
     ]
    },
    {
     "data": {
      "text/plain": [
       "<keras.callbacks.History at 0x7f9d6973cf60>"
      ]
     },
     "execution_count": 22,
     "metadata": {},
     "output_type": "execute_result"
    }
   ],
   "source": [
    "model= Sequential()\n",
    "model.add(Flatten(input_shape=(28,28,1)))\n",
    "model.add(Dense(200, activation='relu'))\n",
    "model.add(Dense(10, activation='softmax'))\n",
    "\n",
    "model.summary()\n",
    "from keras.optimizers import RMSprop\n",
    "model.compile(optimizer=RMSprop(lr=0.001),\n",
    "    loss='categorical_crossentropy',\n",
    "    metrics=['accuracy'])\n",
    "\n",
    "\n",
    "model.fit(X_train,OHE_y_train,validation_split=0.2,shuffle=True)"
   ]
  },
  {
   "cell_type": "code",
   "execution_count": 28,
   "metadata": {
    "scrolled": false
   },
   "outputs": [
    {
     "name": "stdout",
     "output_type": "stream",
     "text": [
      "_________________________________________________________________\n",
      "Layer (type)                 Output Shape              Param #   \n",
      "=================================================================\n",
      "flatten_15 (Flatten)         (None, 784)               0         \n",
      "_________________________________________________________________\n",
      "dense_27 (Dense)             (None, 300)               235500    \n",
      "_________________________________________________________________\n",
      "dropout_5 (Dropout)          (None, 300)               0         \n",
      "_________________________________________________________________\n",
      "dense_28 (Dense)             (None, 10)                3010      \n",
      "=================================================================\n",
      "Total params: 238,510\n",
      "Trainable params: 238,510\n",
      "Non-trainable params: 0\n",
      "_________________________________________________________________\n",
      "Train on 33600 samples, validate on 8400 samples\n",
      "Epoch 1/10\n",
      "33600/33600 [==============================] - 6s - loss: 0.2908 - acc: 0.9119 - val_loss: 0.1439 - val_acc: 0.9565\n",
      "Epoch 2/10\n",
      "33600/33600 [==============================] - 6s - loss: 0.1503 - acc: 0.9570 - val_loss: 0.1350 - val_acc: 0.9636\n",
      "Epoch 3/10\n",
      "33600/33600 [==============================] - 5s - loss: 0.1162 - acc: 0.9668 - val_loss: 0.1240 - val_acc: 0.9671\n",
      "Epoch 4/10\n",
      "33600/33600 [==============================] - 5s - loss: 0.1004 - acc: 0.9727 - val_loss: 0.1088 - val_acc: 0.9739\n",
      "Epoch 5/10\n",
      "33600/33600 [==============================] - 5s - loss: 0.0851 - acc: 0.9783 - val_loss: 0.1193 - val_acc: 0.9742\n",
      "Epoch 6/10\n",
      "33600/33600 [==============================] - 5s - loss: 0.0737 - acc: 0.9799 - val_loss: 0.1324 - val_acc: 0.9721\n",
      "Epoch 7/10\n",
      "33600/33600 [==============================] - 6s - loss: 0.0661 - acc: 0.9821 - val_loss: 0.1374 - val_acc: 0.9737\n",
      "Epoch 8/10\n",
      "33600/33600 [==============================] - 6s - loss: 0.0608 - acc: 0.9841 - val_loss: 0.1473 - val_acc: 0.9727\n",
      "Epoch 9/10\n",
      "33600/33600 [==============================] - 5s - loss: 0.0569 - acc: 0.9857 - val_loss: 0.1312 - val_acc: 0.9761\n",
      "Epoch 10/10\n",
      "33600/33600 [==============================] - 5s - loss: 0.0523 - acc: 0.9865 - val_loss: 0.1408 - val_acc: 0.9773\n"
     ]
    },
    {
     "data": {
      "text/plain": [
       "<keras.callbacks.History at 0x7f9d65a1e390>"
      ]
     },
     "execution_count": 28,
     "metadata": {},
     "output_type": "execute_result"
    }
   ],
   "source": [
    "model= Sequential()\n",
    "model.add(Flatten(input_shape=(28,28,1)))\n",
    "model.add(Dense(300, activation='relu'))\n",
    "model.add(Dropout(0.2))\n",
    "model.add(Dense(10, activation='softmax'))\n",
    "\n",
    "model.summary()\n",
    "from keras.optimizers import RMSprop\n",
    "model.compile(optimizer=RMSprop(lr=0.001),\n",
    "    loss='categorical_crossentropy',\n",
    "    metrics=['accuracy'])\n",
    "\n",
    "\n",
    "model.fit(X_train,OHE_y_train,validation_split=0.2,shuffle=True)"
   ]
  },
  {
   "cell_type": "code",
   "execution_count": 33,
   "metadata": {
    "scrolled": false
   },
   "outputs": [
    {
     "name": "stdout",
     "output_type": "stream",
     "text": [
      "_________________________________________________________________\n",
      "Layer (type)                 Output Shape              Param #   \n",
      "=================================================================\n",
      "flatten_20 (Flatten)         (None, 784)               0         \n",
      "_________________________________________________________________\n",
      "dense_41 (Dense)             (None, 300)               235500    \n",
      "_________________________________________________________________\n",
      "dropout_14 (Dropout)         (None, 300)               0         \n",
      "_________________________________________________________________\n",
      "dense_42 (Dense)             (None, 10)                3010      \n",
      "=================================================================\n",
      "Total params: 238,510\n",
      "Trainable params: 238,510\n",
      "Non-trainable params: 0\n",
      "_________________________________________________________________\n",
      "Train on 33600 samples, validate on 8400 samples\n",
      "Epoch 1/10\n",
      "33600/33600 [==============================] - 6s - loss: 0.3639 - acc: 0.8891 - val_loss: 0.1885 - val_acc: 0.9439\n",
      "Epoch 2/10\n",
      "33600/33600 [==============================] - 6s - loss: 0.1741 - acc: 0.9482 - val_loss: 0.1378 - val_acc: 0.9586\n",
      "Epoch 3/10\n",
      "33600/33600 [==============================] - 6s - loss: 0.1314 - acc: 0.9620 - val_loss: 0.1220 - val_acc: 0.9643\n",
      "Epoch 4/10\n",
      "33600/33600 [==============================] - 6s - loss: 0.1036 - acc: 0.9695 - val_loss: 0.1092 - val_acc: 0.9680\n",
      "Epoch 5/10\n",
      "33600/33600 [==============================] - 6s - loss: 0.0864 - acc: 0.9753 - val_loss: 0.1083 - val_acc: 0.9663\n",
      "Epoch 6/10\n",
      "33600/33600 [==============================] - 6s - loss: 0.0749 - acc: 0.9786 - val_loss: 0.0963 - val_acc: 0.9715\n",
      "Epoch 7/10\n",
      "33600/33600 [==============================] - 6s - loss: 0.0653 - acc: 0.9810 - val_loss: 0.0902 - val_acc: 0.9726\n",
      "Epoch 8/10\n",
      "33600/33600 [==============================] - 6s - loss: 0.0560 - acc: 0.9829 - val_loss: 0.0860 - val_acc: 0.9745\n",
      "Epoch 9/10\n",
      "33600/33600 [==============================] - 6s - loss: 0.0507 - acc: 0.9842 - val_loss: 0.0848 - val_acc: 0.9749\n",
      "Epoch 10/10\n",
      "33600/33600 [==============================] - 6s - loss: 0.0460 - acc: 0.9868 - val_loss: 0.0842 - val_acc: 0.9746\n"
     ]
    },
    {
     "data": {
      "text/plain": [
       "<keras.callbacks.History at 0x7f9d64e121d0>"
      ]
     },
     "execution_count": 33,
     "metadata": {},
     "output_type": "execute_result"
    }
   ],
   "source": [
    "model= Sequential()\n",
    "model.add(Flatten(input_shape=(28,28,1)))\n",
    "model.add(Dense(300, activation='relu'))\n",
    "model.add(Dropout(0.2))\n",
    "model.add(Dense(10, activation='softmax'))\n",
    "\n",
    "model.summary()\n",
    "from keras.optimizers import Adadelta\n",
    "model.compile(optimizer=Adadelta(),\n",
    "    loss='categorical_crossentropy',\n",
    "    metrics=['accuracy'])\n",
    "\n",
    "\n",
    "model.fit(X_train,OHE_y_train,validation_split=0.2,shuffle=True)"
   ]
  },
  {
   "cell_type": "code",
   "execution_count": 32,
   "metadata": {
    "scrolled": false
   },
   "outputs": [
    {
     "name": "stdout",
     "output_type": "stream",
     "text": [
      "_________________________________________________________________\n",
      "Layer (type)                 Output Shape              Param #   \n",
      "=================================================================\n",
      "flatten_19 (Flatten)         (None, 784)               0         \n",
      "_________________________________________________________________\n",
      "dense_38 (Dense)             (None, 200)               157000    \n",
      "_________________________________________________________________\n",
      "dropout_12 (Dropout)         (None, 200)               0         \n",
      "_________________________________________________________________\n",
      "dense_39 (Dense)             (None, 20)                4020      \n",
      "_________________________________________________________________\n",
      "dropout_13 (Dropout)         (None, 20)                0         \n",
      "_________________________________________________________________\n",
      "dense_40 (Dense)             (None, 10)                210       \n",
      "=================================================================\n",
      "Total params: 161,230\n",
      "Trainable params: 161,230\n",
      "Non-trainable params: 0\n",
      "_________________________________________________________________\n",
      "Train on 33600 samples, validate on 8400 samples\n",
      "Epoch 1/10\n",
      "33600/33600 [==============================] - 7s - loss: 0.5505 - acc: 0.8277 - val_loss: 0.2234 - val_acc: 0.9361\n",
      "Epoch 2/10\n",
      "33600/33600 [==============================] - 7s - loss: 0.2807 - acc: 0.9157 - val_loss: 0.1714 - val_acc: 0.9495\n",
      "Epoch 3/10\n",
      "33600/33600 [==============================] - 7s - loss: 0.2141 - acc: 0.9362 - val_loss: 0.1430 - val_acc: 0.9579\n",
      "Epoch 4/10\n",
      "33600/33600 [==============================] - 7s - loss: 0.1801 - acc: 0.9448 - val_loss: 0.1275 - val_acc: 0.9624\n",
      "Epoch 5/10\n",
      "33600/33600 [==============================] - 7s - loss: 0.1586 - acc: 0.9528 - val_loss: 0.1220 - val_acc: 0.9644\n",
      "Epoch 6/10\n",
      "33600/33600 [==============================] - 7s - loss: 0.1398 - acc: 0.9584 - val_loss: 0.1145 - val_acc: 0.9670\n",
      "Epoch 7/10\n",
      "33600/33600 [==============================] - 7s - loss: 0.1249 - acc: 0.9623 - val_loss: 0.1096 - val_acc: 0.9671\n",
      "Epoch 8/10\n",
      "33600/33600 [==============================] - 7s - loss: 0.1154 - acc: 0.9665 - val_loss: 0.1106 - val_acc: 0.9693\n",
      "Epoch 9/10\n",
      "33600/33600 [==============================] - 7s - loss: 0.1044 - acc: 0.9692 - val_loss: 0.1021 - val_acc: 0.9698\n",
      "Epoch 10/10\n",
      "33600/33600 [==============================] - 7s - loss: 0.0946 - acc: 0.9717 - val_loss: 0.1046 - val_acc: 0.9707\n"
     ]
    },
    {
     "data": {
      "text/plain": [
       "<keras.callbacks.History at 0x7f9d6475feb8>"
      ]
     },
     "execution_count": 32,
     "metadata": {},
     "output_type": "execute_result"
    }
   ],
   "source": [
    "model= Sequential()\n",
    "model.add(Flatten(input_shape=(28,28,1)))\n",
    "model.add(Dense(200, activation='relu'))\n",
    "model.add(Dropout(0.2))\n",
    "model.add(Dense(20, activation='relu'))\n",
    "model.add(Dropout(0.1))\n",
    "model.add(Dense(10, activation='softmax'))\n",
    "\n",
    "model.summary()\n",
    "from keras.optimizers import Adadelta\n",
    "model.compile(optimizer=Adadelta(),\n",
    "    loss='categorical_crossentropy',\n",
    "    metrics=['accuracy'])\n",
    "\n",
    "\n",
    "model.fit(X_train,OHE_y_train,validation_split=0.2,shuffle=True)"
   ]
  },
  {
   "cell_type": "code",
   "execution_count": 38,
   "metadata": {},
   "outputs": [
    {
     "ename": "ImportError",
     "evalue": "No module named 'PIL'",
     "output_type": "error",
     "traceback": [
      "\u001b[0;31m---------------------------------------------------------------------------\u001b[0m",
      "\u001b[0;31mImportError\u001b[0m                               Traceback (most recent call last)",
      "\u001b[0;32m<ipython-input-38-b75b03d434de>\u001b[0m in \u001b[0;36m<module>\u001b[0;34m()\u001b[0m\n\u001b[0;32m----> 1\u001b[0;31m \u001b[0;32mimport\u001b[0m \u001b[0mPIL\u001b[0m\u001b[0;34m\u001b[0m\u001b[0m\n\u001b[0m\u001b[1;32m      2\u001b[0m \u001b[0;31m# img = cv2.imread('../input/scr_written_digits_1.png')\u001b[0m\u001b[0;34m\u001b[0m\u001b[0;34m\u001b[0m\u001b[0m\n\u001b[1;32m      3\u001b[0m \u001b[0;31m# img\u001b[0m\u001b[0;34m\u001b[0m\u001b[0;34m\u001b[0m\u001b[0m\n",
      "\u001b[0;31mImportError\u001b[0m: No module named 'PIL'"
     ]
    }
   ],
   "source": [
    "import PIL\n",
    "# img = cv2.imread('../input/scr_written_digits_1.png')\n",
    "# img"
   ]
  }
 ],
 "metadata": {
  "kernelspec": {
   "display_name": "Python 3",
   "language": "python",
   "name": "python3"
  },
  "language_info": {
   "codemirror_mode": {
    "name": "ipython",
    "version": 3
   },
   "file_extension": ".py",
   "mimetype": "text/x-python",
   "name": "python",
   "nbconvert_exporter": "python",
   "pygments_lexer": "ipython3",
   "version": "3.5.2"
  }
 },
 "nbformat": 4,
 "nbformat_minor": 2
}
