{
 "cells": [
  {
   "cell_type": "code",
   "execution_count": 1,
   "metadata": {},
   "outputs": [
    {
     "name": "stderr",
     "output_type": "stream",
     "text": [
      "Using TensorFlow backend.\n"
     ]
    }
   ],
   "source": [
    "import numpy as np # linear algebra\n",
    "import pandas as pd # data processing\n",
    "\n",
    "import matplotlib.pyplot as plt\n",
    "%matplotlib inline\n",
    "\n",
    "from keras.models import Sequential\n",
    "from keras.layers import Dense , Dropout , Lambda, Flatten, Conv2D, MaxPool2D\n",
    "from keras.optimizers import SGD\n",
    "from sklearn.model_selection import train_test_split\n",
    "\n",
    "import cv2\n",
    "import glob\n",
    "import os\n",
    "import pickle\n",
    "\n",
    "\n",
    "#set global parameters\n",
    "img_rows = 224\n",
    "img_cols = 224\n",
    "max_files = -1\n",
    "read_from_cache = False\n"
   ]
  },
  {
   "cell_type": "code",
   "execution_count": 2,
   "metadata": {
    "collapsed": true
   },
   "outputs": [],
   "source": [
    "filelist = glob.glob('../input/train/*/*.*')\n",
    "categories = np.unique([x.split('/')[3] for x in filelist])"
   ]
  },
  {
   "cell_type": "code",
   "execution_count": 3,
   "metadata": {},
   "outputs": [
    {
     "data": {
      "text/plain": [
       "array(['classroompictures', 'diningpictures', 'entrancepictures',\n",
       "       'exhibitionpictures', 'stairspictures'],\n",
       "      dtype='<U18')"
      ]
     },
     "execution_count": 3,
     "metadata": {},
     "output_type": "execute_result"
    }
   ],
   "source": [
    "categories"
   ]
  },
  {
   "cell_type": "code",
   "execution_count": 4,
   "metadata": {
    "collapsed": true
   },
   "outputs": [],
   "source": [
    "def read_image(path,img_rows,img_cols):\n",
    "    img = cv2.imread(path)\n",
    "    return cv2.resize(img, (img_cols, img_rows))\n",
    "\n",
    "def read_train(img_rows,img_cols,max_files):\n",
    "    \n",
    "    # img_rows & img_cols set the size of the image in the output\n",
    "    # max files is the maximal number of images to read from each category\n",
    "    # use max_files=-1 to read all images within the train subfolders\n",
    "    \n",
    "    X_train = []\n",
    "    y_train = []\n",
    "    \n",
    "    print('Read train images')\n",
    "    for j,category in enumerate(categories):\n",
    "        counter = 0\n",
    "        print('Load folder {}'.format(category))\n",
    "        path = os.path.join('..', 'input','train', category, '*.jpg')\n",
    "        files = glob.glob(path)\n",
    "        for fl in files:\n",
    "            flbase = os.path.basename(fl)\n",
    "            img = read_image(fl, img_rows, img_cols)\n",
    "            X_train.append(np.asarray(img))\n",
    "            y_train.append(j)\n",
    "            counter+=1\n",
    "            if (counter>=max_files)&(max_files>0):\n",
    "                break\n",
    "    \n",
    "    return np.array(X_train), np.array(y_train)\n",
    "\n",
    "def read_test(img_rows,img_cols):\n",
    "    X_test = []\n",
    "    ids = []\n",
    "    print('Read test images')\n",
    "    path = os.path.join('..', 'input','test', '*.jpg')\n",
    "    files = glob.glob(path)\n",
    "    for fl in files:\n",
    "        flbase = os.path.basename(fl)\n",
    "        img = read_image(fl, img_rows, img_cols)\n",
    "        X_test.append(np.asarray(img))\n",
    "        ids.append(fl.split('/')[-1])\n",
    "    \n",
    "    return np.array(ids), np.array(X_test)\n",
    "\n"
   ]
  },
  {
   "cell_type": "code",
   "execution_count": 5,
   "metadata": {
    "collapsed": true
   },
   "outputs": [],
   "source": [
    "def cache_data(data, path):\n",
    "    # this is a helper function used to cache data once it was read and preprocessed\n",
    "    if os.path.isdir(os.path.dirname(path)):\n",
    "        file = open(path, 'wb')\n",
    "        pickle.dump(data, file)\n",
    "        file.close()\n",
    "    else:\n",
    "        print('Directory doesnt exists')"
   ]
  },
  {
   "cell_type": "code",
   "execution_count": 6,
   "metadata": {
    "collapsed": true
   },
   "outputs": [],
   "source": [
    "def restore_data(path):\n",
    "    # this is a helper function used to restore cached data\n",
    "    data = dict()\n",
    "    if os.path.isfile(path):\n",
    "        file = open(path, 'rb')\n",
    "        data = pickle.load(file)\n",
    "    return data"
   ]
  },
  {
   "cell_type": "code",
   "execution_count": 7,
   "metadata": {
    "collapsed": true
   },
   "outputs": [],
   "source": [
    "def save_model(model):\n",
    "    # this is a helper function used to save a keras NN model architecture and weights\n",
    "    json_string = model.to_json()\n",
    "    if not os.path.isdir('cache'):\n",
    "        os.mkdir('cache')\n",
    "    open(os.path.join('cache', 'architecture.json'), 'w').write(json_string)\n",
    "    model.save_weights(os.path.join('cache', 'model_weights.h5'), overwrite=True)"
   ]
  },
  {
   "cell_type": "code",
   "execution_count": 8,
   "metadata": {
    "collapsed": true
   },
   "outputs": [],
   "source": [
    "def read_model():\n",
    "    # this is a helper function used to restore a keras NN model architecture and weights\n",
    "    model = model_from_json(open(os.path.join('cache', 'architecture.json')).read())\n",
    "    model.load_weights(os.path.join('cache', 'model_weights.h5'))\n",
    "    return model"
   ]
  },
  {
   "cell_type": "code",
   "execution_count": 9,
   "metadata": {},
   "outputs": [
    {
     "name": "stdout",
     "output_type": "stream",
     "text": [
      "Read train images\n",
      "Load folder classroompictures\n",
      "Load folder diningpictures\n",
      "Load folder entrancepictures\n",
      "Load folder exhibitionpictures\n",
      "Load folder stairspictures\n"
     ]
    }
   ],
   "source": [
    "if not read_from_cache:\n",
    "    X_train, y_train = read_train(img_rows,img_cols,max_files)\n",
    "    cache_data(X_train,'../processed_input/X_train_{}X{}X3_{}_max_samples'.format(img_rows,img_cols,max_files))\n",
    "    cache_data(y_train,'../processed_input/y_train_{}_max_samples'.format(max_files))\n",
    "else:\n",
    "    X_train = restore_data('../processed_input/X_train_{}X{}X3_{}_max_samples'.format(img_rows,img_cols,max_files))\n",
    "    y_train = restore_data('../processed_input/y_train_{}_max_samples'.format(max_files))"
   ]
  },
  {
   "cell_type": "code",
   "execution_count": 10,
   "metadata": {},
   "outputs": [
    {
     "name": "stdout",
     "output_type": "stream",
     "text": [
      "Read test images\n"
     ]
    }
   ],
   "source": [
    "ids, X_test = read_test(img_rows=img_rows,img_cols=img_cols)"
   ]
  },
  {
   "cell_type": "code",
   "execution_count": 11,
   "metadata": {
    "scrolled": true
   },
   "outputs": [
    {
     "data": {
      "text/html": [
       "<div>\n",
       "<style>\n",
       "    .dataframe thead tr:only-child th {\n",
       "        text-align: right;\n",
       "    }\n",
       "\n",
       "    .dataframe thead th {\n",
       "        text-align: left;\n",
       "    }\n",
       "\n",
       "    .dataframe tbody tr th {\n",
       "        vertical-align: top;\n",
       "    }\n",
       "</style>\n",
       "<table border=\"1\" class=\"dataframe\">\n",
       "  <thead>\n",
       "    <tr style=\"text-align: right;\">\n",
       "      <th></th>\n",
       "      <th>classroompictures</th>\n",
       "      <th>diningpictures</th>\n",
       "      <th>entrancepictures</th>\n",
       "      <th>exhibitionpictures</th>\n",
       "      <th>stairspictures</th>\n",
       "      <th>Id</th>\n",
       "    </tr>\n",
       "  </thead>\n",
       "  <tbody>\n",
       "    <tr>\n",
       "      <th>3</th>\n",
       "      <td>0.2</td>\n",
       "      <td>0.2</td>\n",
       "      <td>0.2</td>\n",
       "      <td>0.2</td>\n",
       "      <td>0.2</td>\n",
       "      <td>1.jpg</td>\n",
       "    </tr>\n",
       "    <tr>\n",
       "      <th>2</th>\n",
       "      <td>0.2</td>\n",
       "      <td>0.2</td>\n",
       "      <td>0.2</td>\n",
       "      <td>0.2</td>\n",
       "      <td>0.2</td>\n",
       "      <td>2.jpg</td>\n",
       "    </tr>\n",
       "    <tr>\n",
       "      <th>0</th>\n",
       "      <td>0.2</td>\n",
       "      <td>0.2</td>\n",
       "      <td>0.2</td>\n",
       "      <td>0.2</td>\n",
       "      <td>0.2</td>\n",
       "      <td>3.jpg</td>\n",
       "    </tr>\n",
       "    <tr>\n",
       "      <th>1</th>\n",
       "      <td>0.2</td>\n",
       "      <td>0.2</td>\n",
       "      <td>0.2</td>\n",
       "      <td>0.2</td>\n",
       "      <td>0.2</td>\n",
       "      <td>4.jpg</td>\n",
       "    </tr>\n",
       "    <tr>\n",
       "      <th>4</th>\n",
       "      <td>0.2</td>\n",
       "      <td>0.2</td>\n",
       "      <td>0.2</td>\n",
       "      <td>0.2</td>\n",
       "      <td>0.2</td>\n",
       "      <td>5.jpg</td>\n",
       "    </tr>\n",
       "  </tbody>\n",
       "</table>\n",
       "</div>"
      ],
      "text/plain": [
       "   classroompictures  diningpictures  entrancepictures  exhibitionpictures  \\\n",
       "3                0.2             0.2               0.2                 0.2   \n",
       "2                0.2             0.2               0.2                 0.2   \n",
       "0                0.2             0.2               0.2                 0.2   \n",
       "1                0.2             0.2               0.2                 0.2   \n",
       "4                0.2             0.2               0.2                 0.2   \n",
       "\n",
       "   stairspictures     Id  \n",
       "3             0.2  1.jpg  \n",
       "2             0.2  2.jpg  \n",
       "0             0.2  3.jpg  \n",
       "1             0.2  4.jpg  \n",
       "4             0.2  5.jpg  "
      ]
     },
     "execution_count": 11,
     "metadata": {},
     "output_type": "execute_result"
    }
   ],
   "source": [
    "pred = [[0.2,0.2,0.2,0.2,0.2],[0.2,0.2,0.2,0.2,0.2],[0.2,0.2,0.2,0.2,0.2],\n",
    "       [0.2,0.2,0.2,0.2,0.2],[0.2,0.2,0.2,0.2,0.2]]# model predictions - put your model.predict(X_test) here\n",
    "subm = pd.DataFrame(np.round(pred,decimals=5))\n",
    "subm.columns = ['classroompictures', 'diningpictures', 'entrancepictures', 'exhibitionpictures', 'stairspictures']\n",
    "subm['Id'] = ids\n",
    "subm['index'] = subm.Id.apply(lambda x: int(x.split('.')[0]))\n",
    "subm.sort_values(by=['index'],inplace=True,ascending=True)\n",
    "subm.drop('index',axis=1,inplace=True)\n",
    "subm"
   ]
  },
  {
   "cell_type": "code",
   "execution_count": 12,
   "metadata": {
    "scrolled": true
   },
   "outputs": [],
   "source": [
    "test_labels = pd.read_csv('../test_labels/test_labels.csv')\n"
   ]
  },
  {
   "cell_type": "code",
   "execution_count": null,
   "metadata": {},
   "outputs": [],
   "source": [
    "from sklearn.metrics import log_loss\n",
    "log_loss(y_pred=subm.loc[:,'classroompictures':'stairspictures'],\n",
    "         y_true=test_labels.loc[:,'classroompictures':'stairspictures'])"
   ]
  },
  {
   "cell_type": "code",
   "execution_count": null,
   "metadata": {
    "collapsed": true
   },
   "outputs": [],
   "source": [
    "from sklearn.metrics import classification_report, confusion_matrix\n",
    "class_pred = subm.loc[:,'classroompictures':'stairspictures'].idxmax(axis = 1)\n",
    "class_labels = test_labels.loc[:,'classroompictures':'stairspictures'].idxmax(axis = 1)\n",
    "print(classification_report(y_pred=class_pred,\n",
    "                            y_true=class_labels))"
   ]
  },
  {
   "cell_type": "code",
   "execution_count": null,
   "metadata": {
    "collapsed": true
   },
   "outputs": [],
   "source": [
    "print(confusion_matrix(y_pred=class_pred,y_true=class_labels))"
   ]
  }
 ],
 "metadata": {
  "kernelspec": {
   "display_name": "Python 3",
   "language": "python",
   "name": "python3"
  },
  "language_info": {
   "codemirror_mode": {
    "name": "ipython",
    "version": 3
   },
   "file_extension": ".py",
   "mimetype": "text/x-python",
   "name": "python",
   "nbconvert_exporter": "python",
   "pygments_lexer": "ipython3",
   "version": "3.5.2"
  }
 },
 "nbformat": 4,
 "nbformat_minor": 2
}
